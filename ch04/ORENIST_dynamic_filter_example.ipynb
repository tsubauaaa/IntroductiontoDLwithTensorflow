{
 "cells": [
  {
   "cell_type": "code",
   "execution_count": 1,
   "metadata": {},
   "outputs": [],
   "source": [
    "import tensorflow as tf\n",
    "import numpy as np\n",
    "import matplotlib.pyplot as plt\n",
    "import _pickle as pickle\n",
    "\n",
    "np.random.seed(20160703)\n",
    "tf.set_random_seed(20160703)"
   ]
  },
  {
   "cell_type": "code",
   "execution_count": 2,
   "metadata": {},
   "outputs": [],
   "source": [
    "with open('ORENIST.data', 'rb') as file:\n",
    "    images, labels = pickle.load(file, encoding='latin1')"
   ]
  },
  {
   "cell_type": "code",
   "execution_count": 3,
   "metadata": {},
   "outputs": [],
   "source": [
    "def edge_filter():\n",
    "    filter0 = np.array(\n",
    "            [[ 2, 1, 0,-1,-2],\n",
    "             [ 3, 2, 0,-2,-3],\n",
    "             [ 4, 3, 0,-3,-4],\n",
    "             [ 3, 2, 0,-2,-3],\n",
    "             [ 2, 1, 0,-1,-2]]) / 23.0\n",
    "    filter1 = np.array(\n",
    "            [[ 2, 3, 4, 3, 2],\n",
    "             [ 1, 2, 3, 2, 1],\n",
    "             [ 0, 0, 0, 0, 0],\n",
    "             [-1,-2,-3,-2,-1],\n",
    "             [-2,-3,-4,-3,-2]]) / 23.0\n",
    "    \n",
    "    filter_array = np.zeros([5,5,1,2])\n",
    "    filter_array[:,:,0,0] = filter0\n",
    "    filter_array[:,:,0,1] = filter1\n",
    "\n",
    "    return tf.constant(filter_array, dtype=tf.float32)"
   ]
  },
  {
   "cell_type": "code",
   "execution_count": 4,
   "metadata": {},
   "outputs": [
    {
     "name": "stdout",
     "output_type": "stream",
     "text": [
      "WARNING:tensorflow:From /Users/tsubasa/.pyenv/versions/3.7.3/lib/python3.7/site-packages/tensorflow/python/framework/op_def_library.py:263: colocate_with (from tensorflow.python.framework.ops) is deprecated and will be removed in a future version.\n",
      "Instructions for updating:\n",
      "Colocations handled automatically by placer.\n"
     ]
    }
   ],
   "source": [
    "x = tf.placeholder(tf.float32, [None, 784])\n",
    "x_image = tf.reshape(x, [-1,28,28,1])\n",
    "\n",
    "W_conv = tf.Variable(tf.truncated_normal([5,5,1,2], stddev=0.1))\n",
    "h_conv = tf.abs(tf.nn.conv2d(x_image, W_conv,\n",
    "                             strides=[1,1,1,1], padding='SAME'))\n",
    "h_conv_cutoff = tf.nn.relu(h_conv-0.2)\n",
    "\n",
    "h_pool =tf.nn.max_pool(h_conv_cutoff, ksize=[1,2,2,1],\n",
    "                       strides=[1,2,2,1], padding='SAME')"
   ]
  },
  {
   "cell_type": "code",
   "execution_count": 5,
   "metadata": {},
   "outputs": [],
   "source": [
    "h_pool_flat = tf.reshape(h_pool, [-1, 392])\n",
    "\n",
    "num_units1 = 392\n",
    "num_units2 = 2\n",
    "\n",
    "w2 = tf.Variable(tf.truncated_normal([num_units1, num_units2]))\n",
    "b2 = tf.Variable(tf.zeros([num_units2]))\n",
    "hidden2 = tf.nn.tanh(tf.matmul(h_pool_flat, w2) + b2)\n",
    "\n",
    "w0 = tf.Variable(tf.zeros([num_units2, 3]))\n",
    "b0 = tf.Variable(tf.zeros([3]))\n",
    "p = tf.nn.softmax(tf.matmul(hidden2, w0) + b0)"
   ]
  },
  {
   "cell_type": "code",
   "execution_count": 6,
   "metadata": {},
   "outputs": [],
   "source": [
    "t = tf.placeholder(tf.float32, [None, 3])\n",
    "loss = -tf.reduce_sum(t * tf.log(p))\n",
    "train_step = tf.train.AdamOptimizer().minimize(loss)\n",
    "correct_prediction = tf.equal(tf.argmax(p, 1), tf.argmax(t, 1))\n",
    "accuracy = tf.reduce_mean(tf.cast(correct_prediction, tf.float32))"
   ]
  },
  {
   "cell_type": "code",
   "execution_count": 7,
   "metadata": {},
   "outputs": [
    {
     "name": "stdout",
     "output_type": "stream",
     "text": [
      "WARNING:tensorflow:From /Users/tsubasa/.pyenv/versions/3.7.3/lib/python3.7/site-packages/tensorflow/python/util/tf_should_use.py:193: initialize_all_variables (from tensorflow.python.ops.variables) is deprecated and will be removed after 2017-03-02.\n",
      "Instructions for updating:\n",
      "Use `tf.global_variables_initializer` instead.\n"
     ]
    }
   ],
   "source": [
    "sess = tf.InteractiveSession()\n",
    "sess.run(tf.initialize_all_variables())"
   ]
  },
  {
   "cell_type": "code",
   "execution_count": 8,
   "metadata": {},
   "outputs": [
    {
     "name": "stdout",
     "output_type": "stream",
     "text": [
      "Step: 10, Loss: 98.618591, Accuracy: 0.644444\n",
      "Step: 20, Loss: 98.038147, Accuracy: 0.677778\n",
      "Step: 30, Loss: 97.233780, Accuracy: 0.722222\n",
      "Step: 40, Loss: 96.181190, Accuracy: 0.811111\n",
      "Step: 50, Loss: 94.913765, Accuracy: 0.833333\n",
      "Step: 60, Loss: 93.212646, Accuracy: 0.877778\n",
      "Step: 70, Loss: 91.002678, Accuracy: 0.922222\n",
      "Step: 80, Loss: 88.412369, Accuracy: 0.955556\n",
      "Step: 90, Loss: 85.766693, Accuracy: 0.955556\n",
      "Step: 100, Loss: 83.228378, Accuracy: 0.977778\n",
      "Step: 110, Loss: 80.836937, Accuracy: 0.988889\n",
      "Step: 120, Loss: 78.676086, Accuracy: 1.000000\n",
      "Step: 130, Loss: 76.683273, Accuracy: 1.000000\n",
      "Step: 140, Loss: 74.864014, Accuracy: 1.000000\n",
      "Step: 150, Loss: 73.193787, Accuracy: 1.000000\n",
      "Step: 160, Loss: 71.621918, Accuracy: 1.000000\n",
      "Step: 170, Loss: 70.129677, Accuracy: 1.000000\n",
      "Step: 180, Loss: 68.704201, Accuracy: 1.000000\n",
      "Step: 190, Loss: 67.337044, Accuracy: 1.000000\n",
      "Step: 200, Loss: 66.022026, Accuracy: 1.000000\n"
     ]
    }
   ],
   "source": [
    "i = 0\n",
    "for _ in range(200):\n",
    "    i += 1\n",
    "    sess.run(train_step, feed_dict={x:images, t:labels})\n",
    "    if i % 10 == 0:\n",
    "        loss_val, acc_val = sess.run(\n",
    "            [loss, accuracy], feed_dict={x:images, t:labels})\n",
    "        print('Step: %d, Loss: %f, Accuracy: %f' \n",
    "                  % (i, loss_val, acc_val))"
   ]
  },
  {
   "cell_type": "code",
   "execution_count": 9,
   "metadata": {},
   "outputs": [
    {
     "data": {
      "text/plain": [
       "<matplotlib.collections.PathCollection at 0x1316ee908>"
      ]
     },
     "execution_count": 9,
     "metadata": {},
     "output_type": "execute_result"
    },
    {
     "data": {
      "image/png": "[encoded data removed]",
      "text/plain": [
       "<Figure size 360x360 with 1 Axes>"
      ]
     },
     "metadata": {
      "needs_background": "light"
     },
     "output_type": "display_data"
    }
   ],
   "source": [
    "hidden2_vals = sess.run(hidden2, feed_dict={x:images})\n",
    "\n",
    "z1_vals = [[],[],[]]\n",
    "z2_vals = [[],[],[]]\n",
    "\n",
    "for hidden2_val, label in zip(hidden2_vals, labels):\n",
    "    label_num = np.argmax(label)\n",
    "    z1_vals[label_num].append(hidden2_val[0])\n",
    "    z2_vals[label_num].append(hidden2_val[1])\n",
    "    \n",
    "fig = plt.figure(figsize=(5,5))\n",
    "subplot = fig.add_subplot(1,1,1)\n",
    "subplot.scatter(z1_vals[0], z2_vals[0], s=200, marker='|')\n",
    "subplot.scatter(z1_vals[1], z2_vals[1], s=200, marker='_')\n",
    "subplot.scatter(z1_vals[2], z2_vals[2], s=200, marker='+')"
   ]
  },
  {
   "cell_type": "code",
   "execution_count": null,
   "metadata": {},
   "outputs": [],
   "source": []
  }
 ],
 "metadata": {
  "kernelspec": {
   "display_name": "Python 3",
   "language": "python",
   "name": "python3"
  },
  "language_info": {
   "codemirror_mode": {
    "name": "ipython",
    "version": 3
   },
   "file_extension": ".py",
   "mimetype": "text/x-python",
   "name": "python",
   "nbconvert_exporter": "python",
   "pygments_lexer": "ipython3",
   "version": "3.7.3"
  }
 },
 "nbformat": 4,
 "nbformat_minor": 2
}
