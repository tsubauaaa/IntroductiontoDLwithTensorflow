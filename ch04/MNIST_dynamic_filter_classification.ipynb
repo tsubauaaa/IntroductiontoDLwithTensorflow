{
 "cells": [
  {
   "cell_type": "code",
   "execution_count": 2,
   "metadata": {},
   "outputs": [],
   "source": [
    "import tensorflow as tf\n",
    "import numpy as np\n",
    "import matplotlib.pyplot as plt\n",
    "from tensorflow.examples.tutorials.mnist import input_data\n",
    "\n",
    "np.random.seed(20160703)\n",
    "tf.set_random_seed(20160703)"
   ]
  },
  {
   "cell_type": "code",
   "execution_count": 3,
   "metadata": {},
   "outputs": [
    {
     "name": "stdout",
     "output_type": "stream",
     "text": [
      "WARNING:tensorflow:From <ipython-input-3-5bb76f0ba894>:1: read_data_sets (from tensorflow.contrib.learn.python.learn.datasets.mnist) is deprecated and will be removed in a future version.\n",
      "Instructions for updating:\n",
      "Please use alternatives such as official/mnist/dataset.py from tensorflow/models.\n",
      "WARNING:tensorflow:From /Users/tsubasa/.pyenv/versions/3.7.3/lib/python3.7/site-packages/tensorflow/contrib/learn/python/learn/datasets/mnist.py:260: maybe_download (from tensorflow.contrib.learn.python.learn.datasets.base) is deprecated and will be removed in a future version.\n",
      "Instructions for updating:\n",
      "Please write your own downloading logic.\n",
      "WARNING:tensorflow:From /Users/tsubasa/.pyenv/versions/3.7.3/lib/python3.7/site-packages/tensorflow/contrib/learn/python/learn/datasets/mnist.py:262: extract_images (from tensorflow.contrib.learn.python.learn.datasets.mnist) is deprecated and will be removed in a future version.\n",
      "Instructions for updating:\n",
      "Please use tf.data to implement this functionality.\n",
      "Extracting /tmp/data/train-images-idx3-ubyte.gz\n",
      "WARNING:tensorflow:From /Users/tsubasa/.pyenv/versions/3.7.3/lib/python3.7/site-packages/tensorflow/contrib/learn/python/learn/datasets/mnist.py:267: extract_labels (from tensorflow.contrib.learn.python.learn.datasets.mnist) is deprecated and will be removed in a future version.\n",
      "Instructions for updating:\n",
      "Please use tf.data to implement this functionality.\n",
      "Extracting /tmp/data/train-labels-idx1-ubyte.gz\n",
      "WARNING:tensorflow:From /Users/tsubasa/.pyenv/versions/3.7.3/lib/python3.7/site-packages/tensorflow/contrib/learn/python/learn/datasets/mnist.py:110: dense_to_one_hot (from tensorflow.contrib.learn.python.learn.datasets.mnist) is deprecated and will be removed in a future version.\n",
      "Instructions for updating:\n",
      "Please use tf.one_hot on tensors.\n",
      "Extracting /tmp/data/t10k-images-idx3-ubyte.gz\n",
      "Extracting /tmp/data/t10k-labels-idx1-ubyte.gz\n",
      "WARNING:tensorflow:From /Users/tsubasa/.pyenv/versions/3.7.3/lib/python3.7/site-packages/tensorflow/contrib/learn/python/learn/datasets/mnist.py:290: DataSet.__init__ (from tensorflow.contrib.learn.python.learn.datasets.mnist) is deprecated and will be removed in a future version.\n",
      "Instructions for updating:\n",
      "Please use alternatives such as official/mnist/dataset.py from tensorflow/models.\n"
     ]
    }
   ],
   "source": [
    "mnist = input_data.read_data_sets(\"/tmp/data\", one_hot=True)"
   ]
  },
  {
   "cell_type": "code",
   "execution_count": 5,
   "metadata": {},
   "outputs": [],
   "source": [
    "num_filters = 16\n",
    "\n",
    "x = tf.placeholder(tf.float32, [None, 784])\n",
    "x_images = tf.reshape(x, [-1,28,28,1])\n",
    "\n",
    "W_conv = tf.Variable(tf.truncated_normal([5,5,1,num_filters],\n",
    "                                                                            stddev=0.1))\n",
    "h_conv = tf.nn.conv2d(x_images, W_conv,\n",
    "                                         strides=[1,1,1,1], padding='SAME')\n",
    "h_pool = tf.nn.max_pool(h_conv, ksize=[1,2,2,1],\n",
    "                                           strides=[1,2,2,1], padding='SAME')"
   ]
  },
  {
   "cell_type": "code",
   "execution_count": 7,
   "metadata": {},
   "outputs": [],
   "source": [
    "h_pool_flat = tf.reshape(h_pool, [-1, 14*14*num_filters])\n",
    "\n",
    "num_units1 = 14*14*num_filters\n",
    "num_units2 = 1024\n",
    "\n",
    "w2 = tf.Variable(tf.truncated_normal([num_units1, num_units2]))\n",
    "b2 = tf.Variable(tf.zeros([num_units2]))\n",
    "hidden2 = tf.nn.relu(tf.matmul(h_pool_flat, w2) + b2)\n",
    "\n",
    "w0 = tf.Variable(tf.zeros([num_units2, 10]))\n",
    "b0 = tf.Variable(tf.zeros([10]))\n",
    "p = tf.nn.softmax(tf.matmul(hidden2, w0) + b0)"
   ]
  },
  {
   "cell_type": "code",
   "execution_count": 8,
   "metadata": {},
   "outputs": [],
   "source": [
    "t = tf.placeholder(tf.float32, [None, 10])\n",
    "loss = -tf.reduce_sum(t * tf.log(p))\n",
    "train_step = tf.train.AdamOptimizer(0.0005).minimize(loss)\n",
    "correct_prediction = tf.equal(tf.argmax(p, 1), tf.argmax(t, 1))\n",
    "accuracy = tf.reduce_mean(tf.cast(correct_prediction, tf.float32))"
   ]
  },
  {
   "cell_type": "code",
   "execution_count": 9,
   "metadata": {},
   "outputs": [
    {
     "name": "stdout",
     "output_type": "stream",
     "text": [
      "WARNING:tensorflow:From /Users/tsubasa/.pyenv/versions/3.7.3/lib/python3.7/site-packages/tensorflow/python/util/tf_should_use.py:193: initialize_all_variables (from tensorflow.python.ops.variables) is deprecated and will be removed after 2017-03-02.\n",
      "Instructions for updating:\n",
      "Use `tf.global_variables_initializer` instead.\n"
     ]
    }
   ],
   "source": [
    "sess = tf.InteractiveSession()\n",
    "sess.run(tf.initialize_all_variables())\n",
    "saver = tf.train.Saver()"
   ]
  },
  {
   "cell_type": "code",
   "execution_count": 10,
   "metadata": {},
   "outputs": [
    {
     "name": "stdout",
     "output_type": "stream",
     "text": [
      "Step: 100, Loss: 2133.699951, Accuracy: 0.940000\n",
      "Step: 200, Loss: 1753.043457, Accuracy: 0.945800\n",
      "Step: 300, Loss: 1365.492188, Accuracy: 0.958900\n",
      "Step: 400, Loss: 1144.823242, Accuracy: 0.963900\n",
      "Step: 500, Loss: 1078.030029, Accuracy: 0.966900\n",
      "Step: 600, Loss: 977.372437, Accuracy: 0.970300\n",
      "WARNING:tensorflow:From /Users/tsubasa/.pyenv/versions/3.7.3/lib/python3.7/site-packages/tensorflow/python/training/saver.py:966: remove_checkpoint (from tensorflow.python.training.checkpoint_management) is deprecated and will be removed in a future version.\n",
      "Instructions for updating:\n",
      "Use standard file APIs to delete files with this prefix.\n",
      "Step: 700, Loss: 852.210632, Accuracy: 0.975100\n",
      "Step: 800, Loss: 821.714661, Accuracy: 0.973700\n",
      "Step: 900, Loss: 796.831177, Accuracy: 0.974500\n",
      "Step: 1000, Loss: 856.306946, Accuracy: 0.973300\n",
      "Step: 1100, Loss: 828.627991, Accuracy: 0.973300\n",
      "Step: 1200, Loss: 718.685852, Accuracy: 0.977100\n",
      "Step: 1300, Loss: 914.827148, Accuracy: 0.973200\n",
      "Step: 1400, Loss: 758.444336, Accuracy: 0.977600\n",
      "Step: 1500, Loss: 665.828613, Accuracy: 0.978300\n",
      "Step: 1600, Loss: 666.220154, Accuracy: 0.978800\n",
      "Step: 1700, Loss: 619.096191, Accuracy: 0.980300\n",
      "Step: 1800, Loss: 701.993103, Accuracy: 0.978000\n",
      "Step: 1900, Loss: 703.616211, Accuracy: 0.978600\n",
      "Step: 2000, Loss: 711.091553, Accuracy: 0.978400\n",
      "Step: 2100, Loss: 641.343323, Accuracy: 0.979600\n",
      "Step: 2200, Loss: 590.924683, Accuracy: 0.981700\n",
      "Step: 2300, Loss: 624.487671, Accuracy: 0.981300\n",
      "Step: 2400, Loss: 544.971069, Accuracy: 0.982600\n",
      "Step: 2500, Loss: 597.997803, Accuracy: 0.982200\n",
      "Step: 2600, Loss: 653.020081, Accuracy: 0.981100\n",
      "Step: 2700, Loss: 644.241089, Accuracy: 0.981100\n",
      "Step: 2800, Loss: 614.331909, Accuracy: 0.982800\n",
      "Step: 2900, Loss: 665.292908, Accuracy: 0.980700\n",
      "Step: 3000, Loss: 639.722046, Accuracy: 0.982700\n",
      "Step: 3100, Loss: 571.022339, Accuracy: 0.982700\n",
      "Step: 3200, Loss: 557.693481, Accuracy: 0.984200\n",
      "Step: 3300, Loss: 675.908508, Accuracy: 0.979900\n",
      "Step: 3400, Loss: 659.268188, Accuracy: 0.982100\n",
      "Step: 3500, Loss: 559.505005, Accuracy: 0.984200\n",
      "Step: 3600, Loss: 640.611694, Accuracy: 0.982100\n",
      "Step: 3700, Loss: 626.141541, Accuracy: 0.982100\n",
      "Step: 3800, Loss: 652.326904, Accuracy: 0.982700\n",
      "Step: 3900, Loss: 688.398804, Accuracy: 0.981400\n",
      "Step: 4000, Loss: 594.558350, Accuracy: 0.983700\n"
     ]
    }
   ],
   "source": [
    "i = 0\n",
    "for _ in range(4000):\n",
    "    i += 1\n",
    "    batch_xs, batch_ts = mnist.train.next_batch(100)\n",
    "    sess.run(train_step, feed_dict={x: batch_xs, t: batch_ts})\n",
    "    if i % 100 == 0:\n",
    "        loss_val, acc_val = sess.run([loss, accuracy], feed_dict={x: mnist.test.images, t: mnist.test.labels})\n",
    "        print('Step: %d, Loss: %f, Accuracy: %f' % (i, loss_val, acc_val))\n",
    "        saver.save(sess, 'mdc_session', global_step=i)"
   ]
  },
  {
   "cell_type": "code",
   "execution_count": 11,
   "metadata": {},
   "outputs": [
    {
     "name": "stdout",
     "output_type": "stream",
     "text": [
      "mdc_session-3600.data-00000-of-00001 mdc_session-3800.meta\r\n",
      "mdc_session-3600.index               mdc_session-3900.data-00000-of-00001\r\n",
      "mdc_session-3600.meta                mdc_session-3900.index\r\n",
      "mdc_session-3700.data-00000-of-00001 mdc_session-3900.meta\r\n",
      "mdc_session-3700.index               mdc_session-4000.data-00000-of-00001\r\n",
      "mdc_session-3700.meta                mdc_session-4000.index\r\n",
      "mdc_session-3800.data-00000-of-00001 mdc_session-4000.meta\r\n",
      "mdc_session-3800.index\r\n"
     ]
    }
   ],
   "source": [
    "! ls mdc_session*"
   ]
  },
  {
   "cell_type": "code",
   "execution_count": null,
   "metadata": {},
   "outputs": [],
   "source": []
  }
 ],
 "metadata": {
  "kernelspec": {
   "display_name": "Python 3",
   "language": "python",
   "name": "python3"
  },
  "language_info": {
   "codemirror_mode": {
    "name": "ipython",
    "version": 3
   },
   "file_extension": ".py",
   "mimetype": "text/x-python",
   "name": "python",
   "nbconvert_exporter": "python",
   "pygments_lexer": "ipython3",
   "version": "3.7.3"
  }
 },
 "nbformat": 4,
 "nbformat_minor": 2
}
