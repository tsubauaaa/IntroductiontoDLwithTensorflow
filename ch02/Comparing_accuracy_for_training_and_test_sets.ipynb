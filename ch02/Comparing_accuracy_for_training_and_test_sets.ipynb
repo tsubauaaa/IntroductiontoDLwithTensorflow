{
 "cells": [
  {
   "cell_type": "code",
   "execution_count": 1,
   "metadata": {},
   "outputs": [],
   "source": [
    "import tensorflow as tf\n",
    "import numpy as np\n",
    "import matplotlib.pyplot as plt\n",
    "from numpy.random import multivariate_normal, permutation\n",
    "import pandas as pd\n",
    "from pandas import DataFrame, Series\n",
    "\n",
    "np.random.seed(20160531)"
   ]
  },
  {
   "cell_type": "code",
   "execution_count": 3,
   "metadata": {},
   "outputs": [],
   "source": [
    "n0, mu0, variance0 = 800, [10, 11], 20\n",
    "data0 = multivariate_normal(mu0, np.eye(2)*variance0, n0)\n",
    "df0 = DataFrame(data0, columns=['x', 'y'])\n",
    "df0['t'] = 0\n",
    "\n",
    "n1, mu1, variance1 = 600, [18, 20], 22\n",
    "data1 = multivariate_normal(mu1, np.eye(2)*variance1, n1)\n",
    "df1 = DataFrame(data1, columns=['x', 'y'])\n",
    "df1['t'] = 1\n",
    "\n",
    "df = pd.concat([df0, df1], ignore_index=True)\n",
    "df = df.reindex(permutation(df.index)).reset_index(drop=True)\n",
    "\n",
    "num_data = int(len(df)*0.8)\n",
    "train_set = df[:num_data]\n",
    "test_set = df[num_data:]"
   ]
  },
  {
   "cell_type": "code",
   "execution_count": 4,
   "metadata": {},
   "outputs": [
    {
     "name": "stderr",
     "output_type": "stream",
     "text": [
      "/Users/tsubasa/.pyenv/versions/3.7.3/lib/python3.7/site-packages/ipykernel_launcher.py:1: FutureWarning: Method .as_matrix will be removed in a future version. Use .values instead.\n",
      "  \"\"\"Entry point for launching an IPython kernel.\n",
      "/Users/tsubasa/.pyenv/versions/3.7.3/lib/python3.7/site-packages/ipykernel_launcher.py:2: FutureWarning: Method .as_matrix will be removed in a future version. Use .values instead.\n",
      "  \n",
      "/Users/tsubasa/.pyenv/versions/3.7.3/lib/python3.7/site-packages/ipykernel_launcher.py:3: FutureWarning: Method .as_matrix will be removed in a future version. Use .values instead.\n",
      "  This is separate from the ipykernel package so we can avoid doing imports until\n",
      "/Users/tsubasa/.pyenv/versions/3.7.3/lib/python3.7/site-packages/ipykernel_launcher.py:4: FutureWarning: Method .as_matrix will be removed in a future version. Use .values instead.\n",
      "  after removing the cwd from sys.path.\n"
     ]
    }
   ],
   "source": [
    "train_x = train_set[['x', 'y']].as_matrix()\n",
    "train_t = train_set['t'].as_matrix().reshape([len(train_set), 1])\n",
    "test_x = test_set[['x', 'y']].as_matrix()\n",
    "test_t = test_set['t'].as_matrix().reshape([len(test_set), 1])"
   ]
  },
  {
   "cell_type": "code",
   "execution_count": 5,
   "metadata": {},
   "outputs": [
    {
     "name": "stdout",
     "output_type": "stream",
     "text": [
      "WARNING:tensorflow:From /Users/tsubasa/.pyenv/versions/3.7.3/lib/python3.7/site-packages/tensorflow/python/framework/op_def_library.py:263: colocate_with (from tensorflow.python.framework.ops) is deprecated and will be removed in a future version.\n",
      "Instructions for updating:\n",
      "Colocations handled automatically by placer.\n"
     ]
    }
   ],
   "source": [
    "x = tf.placeholder(tf.float32, [None, 2])\n",
    "w = tf.Variable(tf.zeros([2, 1]))\n",
    "w0 = tf.Variable(tf.zeros([1]))\n",
    "f = tf.matmul(x, w) + w0\n",
    "p = tf.sigmoid(f)\n",
    "\n",
    "t = tf.placeholder(tf.float32, [None, 1])\n",
    "loss = -tf.reduce_sum(t*tf.log(p) + (1-t)*tf.log(1-p))\n",
    "train_step = tf.train.AdamOptimizer().minimize(loss)\n",
    "\n",
    "correct_prediction = tf.equal(tf.sign(p-0.5), tf.sign(t-0.5))\n",
    "accuracy = tf.reduce_mean(tf.cast(correct_prediction, tf.float32))"
   ]
  },
  {
   "cell_type": "code",
   "execution_count": 7,
   "metadata": {},
   "outputs": [],
   "source": [
    "sess = tf.Session()\n",
    "sess.run(tf.global_variables_initializer())"
   ]
  },
  {
   "cell_type": "code",
   "execution_count": 8,
   "metadata": {},
   "outputs": [],
   "source": [
    "train_accuracy = []\n",
    "test_accuracy = []\n",
    "for _ in range(2500):\n",
    "    sess.run(train_step, feed_dict={x:train_x, t:train_t})\n",
    "    acc_val = sess.run(accuracy, feed_dict={x:train_x, t:train_t})\n",
    "    train_accuracy.append(acc_val)\n",
    "    acc_val = sess.run(accuracy, feed_dict={x:test_x, t:test_t})\n",
    "    test_accuracy.append(acc_val)"
   ]
  },
  {
   "cell_type": "code",
   "execution_count": 10,
   "metadata": {},
   "outputs": [
    {
     "data": {
      "text/plain": [
       "<matplotlib.legend.Legend at 0x133f9cc88>"
      ]
     },
     "execution_count": 10,
     "metadata": {},
     "output_type": "execute_result"
    },
    {
     "data": {
      "image/png": "[encoded data removed]",
      "text/plain": [
       "<Figure size 576x432 with 1 Axes>"
      ]
     },
     "metadata": {
      "needs_background": "light"
     },
     "output_type": "display_data"
    }
   ],
   "source": [
    "fig = plt.figure(figsize=(8,6))\n",
    "subplot = fig.add_subplot(1, 1, 1)\n",
    "subplot.plot(range(len(train_accuracy)), train_accuracy, linewidth=2, label='Training set')\n",
    "subplot.plot(range(len(test_accuracy)), test_accuracy, linewidth=2, label='Test set')\n",
    "subplot.legend(loc='upper left')"
   ]
  },
  {
   "cell_type": "code",
   "execution_count": null,
   "metadata": {},
   "outputs": [],
   "source": []
  }
 ],
 "metadata": {
  "kernelspec": {
   "display_name": "Python 3",
   "language": "python",
   "name": "python3"
  },
  "language_info": {
   "codemirror_mode": {
    "name": "ipython",
    "version": 3
   },
   "file_extension": ".py",
   "mimetype": "text/x-python",
   "name": "python",
   "nbconvert_exporter": "python",
   "pygments_lexer": "ipython3",
   "version": "3.7.3"
  }
 },
 "nbformat": 4,
 "nbformat_minor": 2
}
