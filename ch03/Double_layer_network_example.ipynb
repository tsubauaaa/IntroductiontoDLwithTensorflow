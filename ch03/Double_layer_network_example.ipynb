{
 "cells": [
  {
   "cell_type": "code",
   "execution_count": 1,
   "metadata": {},
   "outputs": [],
   "source": [
    "import tensorflow as tf\n",
    "import numpy as np\n",
    "import matplotlib.pyplot as plt\n",
    "from numpy.random import multivariate_normal, permutation\n",
    "import pandas as pd\n",
    "from pandas import DataFrame, Series\n",
    "\n",
    "np.random.seed(20160615)\n",
    "tf.set_random_seed(20160615)"
   ]
  },
  {
   "cell_type": "code",
   "execution_count": 2,
   "metadata": {},
   "outputs": [],
   "source": [
    "def generate_datablock(n, mu, var, t):\n",
    "    data = multivariate_normal(mu, np.eye(2)*var, n)\n",
    "    df = DataFrame(data, columns=['x1','x2'])\n",
    "    df['t'] = t\n",
    "    return df\n",
    "\n",
    "df0 = generate_datablock(30, [-7,-7], 18, 1)\n",
    "df1 = generate_datablock(30, [-7,7], 18, 0)\n",
    "df2 = generate_datablock(30, [7,-7], 18, 0)\n",
    "df3 = generate_datablock(30, [7,7], 18, 1)\n",
    "\n",
    "df = pd.concat([df0, df1, df2, df3], ignore_index=True)\n",
    "train_set = df.reindex(permutation(df.index)).reset_index(drop=True)"
   ]
  },
  {
   "cell_type": "code",
   "execution_count": 3,
   "metadata": {},
   "outputs": [
    {
     "name": "stderr",
     "output_type": "stream",
     "text": [
      "/Users/tsubasa/.pyenv/versions/3.7.3/lib/python3.7/site-packages/ipykernel_launcher.py:1: FutureWarning: Method .as_matrix will be removed in a future version. Use .values instead.\n",
      "  \"\"\"Entry point for launching an IPython kernel.\n",
      "/Users/tsubasa/.pyenv/versions/3.7.3/lib/python3.7/site-packages/ipykernel_launcher.py:2: FutureWarning: Method .as_matrix will be removed in a future version. Use .values instead.\n",
      "  \n"
     ]
    }
   ],
   "source": [
    "train_x = train_set[['x1','x2']].as_matrix()\n",
    "train_t = train_set['t'].as_matrix().reshape([len(train_set), 1])"
   ]
  },
  {
   "cell_type": "code",
   "execution_count": 7,
   "metadata": {},
   "outputs": [],
   "source": [
    "num_units1 = 2\n",
    "num_units2 = 2\n",
    "\n",
    "x = tf.placeholder(tf.float32, [None, 2])\n",
    "\n",
    "w1 = tf.Variable(tf.truncated_normal([2, num_units1]))\n",
    "b1 = tf.Variable(tf.zeros([num_units1]))\n",
    "hidden1 = tf.nn.tanh(tf.matmul(x, w1) + b1)\n",
    "\n",
    "w2 = tf.Variable(tf.truncated_normal([num_units1, num_units2]))\n",
    "b2 = tf.Variable(tf.zeros([num_units2]))\n",
    "hidden2 = tf.nn.tanh(tf.matmul(hidden1, w2) + b2)\n",
    "\n",
    "w0 = tf.Variable(tf.zeros([num_units2, 1]))\n",
    "b0 = tf.Variable(tf.zeros([1]))\n",
    "p = tf.nn.sigmoid(tf.matmul(hidden2, w0) + b0)\n"
   ]
  },
  {
   "cell_type": "code",
   "execution_count": 10,
   "metadata": {},
   "outputs": [],
   "source": [
    "t = tf.placeholder(tf.float32, [None, 1])\n",
    "loss = -tf.reduce_sum(t*tf.log(p) + (1-t)*tf.log(1-p))\n",
    "train_step = tf.train.GradientDescentOptimizer(0.001).minimize(loss)\n",
    "correct_prediction = tf.equal(tf.sign(p-0.5), tf.sign(t-0.5))\n",
    "accuracy = tf.reduce_mean(tf.cast(correct_prediction, tf.float32))"
   ]
  },
  {
   "cell_type": "code",
   "execution_count": 11,
   "metadata": {},
   "outputs": [
    {
     "name": "stdout",
     "output_type": "stream",
     "text": [
      "WARNING:tensorflow:From /Users/tsubasa/.pyenv/versions/3.7.3/lib/python3.7/site-packages/tensorflow/python/util/tf_should_use.py:193: initialize_all_variables (from tensorflow.python.ops.variables) is deprecated and will be removed after 2017-03-02.\n",
      "Instructions for updating:\n",
      "Use `tf.global_variables_initializer` instead.\n"
     ]
    }
   ],
   "source": [
    "sess = tf.Session()\n",
    "sess.run(tf.initialize_all_variables())"
   ]
  },
  {
   "cell_type": "code",
   "execution_count": 12,
   "metadata": {},
   "outputs": [
    {
     "name": "stdout",
     "output_type": "stream",
     "text": [
      "Step: 100, Loss: 83.101562, Accuracy: 0.508333\n",
      "Step: 200, Loss: 82.991287, Accuracy: 0.516667\n",
      "Step: 300, Loss: 82.439957, Accuracy: 0.541667\n",
      "Step: 400, Loss: 81.443512, Accuracy: 0.525000\n",
      "Step: 500, Loss: 79.336853, Accuracy: 0.666667\n",
      "Step: 600, Loss: 75.432213, Accuracy: 0.675000\n",
      "Step: 700, Loss: 71.550827, Accuracy: 0.675000\n",
      "Step: 800, Loss: 68.716431, Accuracy: 0.675000\n",
      "Step: 900, Loss: 64.255722, Accuracy: 0.791667\n",
      "Step: 1000, Loss: 56.031845, Accuracy: 0.833333\n",
      "Step: 1100, Loss: 51.574810, Accuracy: 0.850000\n",
      "Step: 1200, Loss: 49.252174, Accuracy: 0.850000\n",
      "Step: 1300, Loss: 47.268673, Accuracy: 0.841667\n",
      "Step: 1400, Loss: 45.337646, Accuracy: 0.866667\n",
      "Step: 1500, Loss: 43.354897, Accuracy: 0.883333\n",
      "Step: 1600, Loss: 42.376137, Accuracy: 0.883333\n",
      "Step: 1700, Loss: 41.771454, Accuracy: 0.883333\n",
      "Step: 1800, Loss: 40.678673, Accuracy: 0.883333\n",
      "Step: 1900, Loss: 39.075241, Accuracy: 0.875000\n",
      "Step: 2000, Loss: 38.564240, Accuracy: 0.883333\n"
     ]
    }
   ],
   "source": [
    "\n",
    "i = 0\n",
    "for _ in range(2000):\n",
    "    i += 1\n",
    "    sess.run(train_step, feed_dict={x:train_x, t:train_t})\n",
    "    if i % 100 == 0:\n",
    "        loss_val, acc_val = sess.run(\n",
    "            [loss, accuracy], feed_dict={x:train_x, t:train_t})\n",
    "        print ('Step: %d, Loss: %f, Accuracy: %f'\n",
    "               % (i, loss_val, acc_val))"
   ]
  },
  {
   "cell_type": "code",
   "execution_count": 13,
   "metadata": {},
   "outputs": [
    {
     "data": {
      "text/plain": [
       "<matplotlib.image.AxesImage at 0x13534c2b0>"
      ]
     },
     "execution_count": 13,
     "metadata": {},
     "output_type": "execute_result"
    },
    {
     "data": {
      "image/png": "[encoded data removed]",
      "text/plain": [
       "<Figure size 432x432 with 1 Axes>"
      ]
     },
     "metadata": {
      "needs_background": "light"
     },
     "output_type": "display_data"
    }
   ],
   "source": [
    "train_set1 = train_set[train_set['t']==1]\n",
    "train_set2 = train_set[train_set['t']==0]\n",
    "\n",
    "fig = plt.figure(figsize=(6,6))\n",
    "subplot = fig.add_subplot(1,1,1)\n",
    "subplot.set_ylim([-15,15])\n",
    "subplot.set_xlim([-15,15])\n",
    "subplot.scatter(train_set1.x1, train_set1.x2, marker='x')\n",
    "subplot.scatter(train_set2.x1, train_set2.x2, marker='o')\n",
    "\n",
    "locations = []\n",
    "for x2 in np.linspace(-15,15,100):\n",
    "    for x1 in np.linspace(-15,15,100):\n",
    "        locations.append((x1,x2))\n",
    "p_vals = sess.run(p, feed_dict={x:locations})\n",
    "p_vals = p_vals.reshape((100,100))\n",
    "subplot.imshow(p_vals, origin='lower', extent=(-15,15,-15,15),\n",
    "               cmap=plt.cm.gray_r, alpha=0.5)"
   ]
  },
  {
   "cell_type": "code",
   "execution_count": null,
   "metadata": {},
   "outputs": [],
   "source": []
  }
 ],
 "metadata": {
  "kernelspec": {
   "display_name": "Python 3",
   "language": "python",
   "name": "python3"
  },
  "language_info": {
   "codemirror_mode": {
    "name": "ipython",
    "version": 3
   },
   "file_extension": ".py",
   "mimetype": "text/x-python",
   "name": "python",
   "nbconvert_exporter": "python",
   "pygments_lexer": "ipython3",
   "version": "3.7.3"
  }
 },
 "nbformat": 4,
 "nbformat_minor": 2
}
